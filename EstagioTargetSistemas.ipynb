{
  "nbformat": 4,
  "nbformat_minor": 0,
  "metadata": {
    "colab": {
      "provenance": [],
      "mount_file_id": "1rfehE3VGkjRDUNoZQMZhUVf2fifi12zj",
      "authorship_tag": "ABX9TyOp61is3jI+mUXmzq/GqHWz",
      "include_colab_link": true
    },
    "kernelspec": {
      "name": "python3",
      "display_name": "Python 3"
    },
    "language_info": {
      "name": "python"
    }
  },
  "cells": [
    {
      "cell_type": "markdown",
      "metadata": {
        "id": "view-in-github",
        "colab_type": "text"
      },
      "source": [
        "<a href=\"https://colab.research.google.com/github/igorcoimbra1/EstagioTargetSistemas/blob/main/EstagioTargetSistemas.ipynb\" target=\"_parent\"><img src=\"https://colab.research.google.com/assets/colab-badge.svg\" alt=\"Open In Colab\"/></a>"
      ]
    },
    {
      "cell_type": "markdown",
      "source": [
        "1) Dado a sequência de Fibonacci, onde se inicia por 0 e 1 e o próximo valor sempre será a soma dos 2 valores anteriores (exemplo: 0, 1, 1, 2, 3, 5, 8, 13, 21, 34...), escreva um programa na linguagem que desejar onde, informado um número, ele calcule a sequência de Fibonacci e retorne uma mensagem avisando se o número informado pertence ou não a sequência.\n"
      ],
      "metadata": {
        "id": "wg7MQ9zXTvca"
      }
    },
    {
      "cell_type": "code",
      "execution_count": 3,
      "metadata": {
        "colab": {
          "base_uri": "https://localhost:8080/"
        },
        "id": "NSWCijnpGtrL",
        "outputId": "bfd4f9d5-d349-4bcf-9dac-c32cbb8c71eb"
      },
      "outputs": [
        {
          "output_type": "stream",
          "name": "stdout",
          "text": [
            "Informe um numero que deseja saber se está na sequencia de Fibonacci: 56\n",
            "O número 56 não pertence à sequência de Fibonacci\n"
          ]
        }
      ],
      "source": [
        "def sequencia_fibonacci(n):\n",
        "  sequencia_fib = [0,1]\n",
        "  while True:\n",
        "    proximo = sequencia_fib[-1] + sequencia_fib[-2]\n",
        "    if proximo > n:\n",
        "      break\n",
        "    sequencia_fib.append(proximo)\n",
        "  return sequencia_fib\n",
        "\n",
        "def checar_fibonacci(n):\n",
        "  sequencia_fib = sequencia_fibonacci(n)\n",
        "  if n in sequencia_fib:\n",
        "    return f\"O número {n} pertence à sequência de Fibonacci\"\n",
        "  else:\n",
        "    return f\"O número {n} não pertence à sequência de Fibonacci\"\n",
        "\n",
        "numero = int(input(\"Informe um numero que deseja saber se está na sequencia de Fibonacci: \"))\n",
        "resultado = checar_fibonacci(numero)\n",
        "print(resultado)"
      ]
    },
    {
      "cell_type": "markdown",
      "source": [
        "2) Escreva um programa que verifique, em uma string, a existência da letra ‘a’, seja maiúscula ou minúscula, além de informar a quantidade de vezes em que ela ocorre."
      ],
      "metadata": {
        "id": "uenkJGi7T0Ir"
      }
    },
    {
      "cell_type": "code",
      "source": [
        "def verifica_a(string):\n",
        "  string_lower= string.lower()\n",
        "  contagem = string_lower.count('a')\n",
        "  if contagem > 0:\n",
        "    return f\"A letra 'a' aparece {contagem} vezes na string\"\n",
        "  else:\n",
        "    return f\"A letra 'a' não aparece na string\"\n",
        "\n",
        "entrada = input(\"Informe uma string: \")\n",
        "resultado = verifica_a(entrada)\n",
        "print(resultado)"
      ],
      "metadata": {
        "colab": {
          "base_uri": "https://localhost:8080/"
        },
        "id": "SRc0cZRQKHX6",
        "outputId": "35f5f8b4-a902-4835-eb16-5170d8ee1bf2"
      },
      "execution_count": 5,
      "outputs": [
        {
          "output_type": "stream",
          "name": "stdout",
          "text": [
            "Informe uma string: igor\n",
            "A letra 'a' não aparece na string\n"
          ]
        }
      ]
    },
    {
      "cell_type": "markdown",
      "source": [
        "3) Observe o trecho de código abaixo: int INDICE = 12, SOMA = 0, K = 1; enquanto K < INDICE faça { K = K + 1; SOMA = SOMA + K; } imprimir(SOMA);<br>\n",
        "______\n",
        "indice = 12,\n",
        "soma = 0,\n",
        "k = 1,\n",
        "<br>\n",
        "k 1 < indice 12\n",
        "<br>\n",
        "k=k+1 = 2, soma=soma+k = 2\n",
        "<br>\n",
        "______\n",
        "indice = 12,\n",
        "soma = 2,\n",
        "k = 2,\n",
        "<br>\n",
        "k 2 < indice 12\n",
        "<br>\n",
        "k=k+1 = 3, soma=soma+k = 5\n",
        "<br>\n",
        "______\n",
        "indice = 12,\n",
        "soma = 5,\n",
        "k = 3,\n",
        "<br>\n",
        "k 3 < indice 12\n",
        "<br>\n",
        "k=k+1 = 4, soma=soma+k = 9\n",
        "<br>\n",
        "______\n",
        "indice = 12,\n",
        "soma = 9,\n",
        "k = 4,\n",
        "<br>\n",
        "k 4 < indice 12\n",
        "<br>\n",
        "k=k+1 = 5, soma=soma+k = 14\n",
        "<br>\n",
        "______\n",
        "indice = 12,\n",
        "soma = 14,\n",
        "k = 5,\n",
        "<br>\n",
        "k 5 < indice 12\n",
        "<br>\n",
        "k=k+1 = 6, soma=soma+k = 20\n",
        "<br>\n",
        "______\n",
        "indice = 12,\n",
        "soma = 20,\n",
        "k = 6,\n",
        "<br>\n",
        "k 6 < indice 12\n",
        "<br>\n",
        "k=k+1 = 7, soma=soma+k = 27\n",
        "<br>\n",
        "______\n",
        "indice = 12,\n",
        "soma = 27,\n",
        "k = 7,\n",
        "<br>\n",
        "k 7 < indice 12\n",
        "<br>\n",
        "k=k+1 = 8, soma=soma+k = 35\n",
        "<br>\n",
        "______\n",
        "indice = 12,\n",
        "soma = 35,\n",
        "k = 8,\n",
        "<br>\n",
        "k 8 < indice 12\n",
        "<br>\n",
        "k=k+1 = 9, soma=soma+k = 44\n",
        "<br>\n",
        "______\n",
        "indice = 12,\n",
        "soma = 44,\n",
        "k = 9,\n",
        "<br>\n",
        "k 9 < indice 12\n",
        "<br>\n",
        "k=k+1 = 10, soma=soma+k = 54\n",
        "<br>\n",
        "______\n",
        "indice = 12,\n",
        "soma = 54,\n",
        "k = 10,\n",
        "<br>\n",
        "k 10 < indice 12\n",
        "<br>\n",
        "k=k+1 = 11, soma=soma+k = 65\n",
        "<br>\n",
        "______\n",
        "indice = 12,\n",
        "soma = 65,\n",
        "k = 11,\n",
        "<br>\n",
        "k 11 < indice 12\n",
        "<br>\n",
        "k=k+1 = 12, soma=soma+k = 77\n",
        "<br>\n",
        "______\n",
        "indice = 12,\n",
        "soma = 77,\n",
        "k = 12,\n",
        "<br>\n",
        "k 12 < indice 12\n",
        "<br>\n",
        "______\n",
        "***Valor Impresso 77***"
      ],
      "metadata": {
        "id": "rFVCcHhVLfuY"
      }
    },
    {
      "cell_type": "markdown",
      "source": [
        "4) Descubra a lógica e complete o próximo elemento:<br>\n",
        "______\n",
        "a) 1, 3, 5, 7, 9 numeros impares\n",
        "<br>\n",
        "______\n",
        "b) 2, 4, 8, 16, 32, 64, 128 potências de 2\n",
        "<br>\n",
        "______\n",
        "c) 0, 1, 4, 9, 16, 25, 36, 49 somar sequencia de impares\n",
        "<br>\n",
        "______\n",
        "d) 4, 16, 36, 64, 100 quadrao dos numeros pares\n",
        "<br>\n",
        "______\n",
        "e) 1, 1, 2, 3, 5, 8, 13 sequência de fibonacci\n",
        "<br>\n",
        "______\n",
        "f) 2,10, 12, 16, 17, 18, 19, 200 numeros que começam com D\n",
        "<br>"
      ],
      "metadata": {
        "id": "cpbu_bw7N4f9"
      }
    },
    {
      "cell_type": "markdown",
      "source": [
        "5) Você está em uma sala com três interruptores, cada um conectado a uma lâmpada em salas diferentes. Você não pode ver as lâmpadas da sala em que está, mas pode ligar e desligar os interruptores quantas vezes quiser. Seu objetivo é descobrir qual interruptor controla qual lâmpada. Como você faria para descobrir, usando apenas duas idas até uma das salas das lâmpadas, qual interruptor controla cada lâmpada?\n",
        "______\n",
        "Acendo o interruptor 1 e deixo ligado por um tempo até a lampada esquentar, então eu apago, ligo o 2 e vou verificar as salas. A sala que tiver com a luz acesa é do interruptor 2, a sala que tiver com a lampada quente é do interruptor 1 e a que tiver com a lampada fria é do interruptor 3. Como so tem 3 possibilidades, só preciso visitar duas salas."
      ],
      "metadata": {
        "id": "ISYfQeNsRIt3"
      }
    }
  ]
}